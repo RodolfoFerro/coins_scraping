{
 "cells": [
  {
   "cell_type": "markdown",
   "metadata": {},
   "source": [
    "# Using __Beautifoul soup__ to extract web data"
   ]
  },
  {
   "cell_type": "markdown",
   "metadata": {},
   "source": [
    "## We import our libs:"
   ]
  },
  {
   "cell_type": "code",
   "execution_count": 2,
   "metadata": {
    "ExecuteTime": {
     "end_time": "2017-07-12T19:25:04.739464Z",
     "start_time": "2017-07-12T19:25:04.454344Z"
    },
    "collapsed": true
   },
   "outputs": [],
   "source": [
    "# Importing our libs:\n",
    "from IPython.display import display\n",
    "from bs4 import BeautifulSoup\n",
    "import requests"
   ]
  },
  {
   "cell_type": "markdown",
   "metadata": {},
   "source": [
    "## We set the url:"
   ]
  },
  {
   "cell_type": "code",
   "execution_count": 24,
   "metadata": {
    "ExecuteTime": {
     "end_time": "2017-07-12T19:56:07.976695Z",
     "start_time": "2017-07-12T19:56:07.478036Z"
    },
    "collapsed": false
   },
   "outputs": [
    {
     "name": "stdout",
     "output_type": "stream",
     "text": [
      "<bound method Tag.prettify of <!DOCTYPE HTML>\n",
      "<html><head profile=\"http://a9.com/-/spec/opensearch/1.1/\"><title>Online Coins of the Roman Empire: Browse Collection</title><link href=\"http://numismatics.org/ocre/feed/?q=\" rel=\"alternate\" type=\"application/atom+xml\"/><link href=\"http://numismatics.org/ocre/query.csv/?q=\" rel=\"alternate\" type=\"text/csv\"/><link href=\"http://numismatics.org/ocre/query.kml/?q=\" rel=\"alternate\" type=\"application/vnd.google-earth.kml+xml\"/><link href=\"http://numismatics.org/ocre/opensearch.xml\" rel=\"search\" title=\"Example Search for http://numismatics.org/ocre/\" type=\"application/opensearchdescription+xml\"/><meta content=\"42746\" name=\"totalResults\"/><meta content=\"0\" name=\"startIndex\"/><meta content=\"20\" name=\"itemsPerPage\"/><link href=\"http://numismatics.org/themes/ocre/images/favicon.png\" rel=\"shortcut icon\" type=\"image/x-icon\"/><meta content=\"width=device-width, initial-scale=1\" name=\"viewport\"/><script src=\"https://ajax.googleapis.com/ajax/libs/jquery/1.11.0/jquery.min.js\" type=\"text/javascript\"></script><link href=\"https://netdna.bootstrapcdn.com/bootstrap/3.3.5/css/bootstrap.min.css\" rel=\"stylesheet\"/><script src=\"https://netdna.bootstrapcdn.com/bootstrap/3.3.5/js/bootstrap.min.js\" type=\"text/javascript\"></script><script src=\"http://numismatics.org/themes/ocre/javascript/bootstrap-multiselect.js\" type=\"text/javascript\"></script><link href=\"http://numismatics.org/themes/ocre/css/bootstrap-multiselect.css\" rel=\"stylesheet\" type=\"text/css\"/><link href=\"http://numismatics.org/themes/ocre/css/style.css\" rel=\"stylesheet\" type=\"text/css\"/><link href=\"http://numismatics.org/themes/ocre/css/jquery.fancybox.css?v=2.1.5\" media=\"screen\" rel=\"stylesheet\" type=\"text/css\"/><script src=\"http://numismatics.org/themes/ocre/javascript/jquery.fancybox.pack.js?v=2.1.5\" type=\"text/javascript\"></script><script src=\"http://numismatics.org/themes/ocre/javascript/get_facets.js\" type=\"text/javascript\"></script><script src=\"http://numismatics.org/themes/ocre/javascript/facet_functions.js\" type=\"text/javascript\"></script><script src=\"http://numismatics.org/themes/ocre/javascript/result_functions.js\" type=\"text/javascript\"></script><link href=\"https://unpkg.com/leaflet@0.7.7/dist/leaflet.css\" rel=\"stylesheet\"/><link href=\"http://numismatics.org/themes/ocre/css/MarkerCluster.css\" rel=\"stylesheet\"/><link href=\"http://numismatics.org/themes/ocre/css/MarkerCluster.Default.css\" rel=\"stylesheet\"/><script src=\"https://unpkg.com/leaflet@0.7.7/dist/leaflet.js\"></script><script src=\"http://numismatics.org/themes/ocre/javascript/leaflet.ajax.min.js\" type=\"text/javascript\"></script><script src=\"http://numismatics.org/themes/ocre/javascript/leaflet.markercluster.js\" type=\"text/javascript\"></script><script src=\"http://numismatics.org/themes/ocre/javascript/result_map_functions.js\" type=\"text/javascript\"></script><script type=\"text/javascript\">\n",
      "var _gaq = _gaq || [];\n",
      "  _gaq.push(['_setAccount', 'UA-8722571-2']);\n",
      "  _gaq.push(['_trackPageview']);\n",
      "\n",
      "  (function() {\n",
      "    var ga = document.createElement('script'); ga.type = 'text/javascript'; ga.async = true;\n",
      "    ga.src = ('https:' == document.location.protocol ? 'https://ssl' : 'http://www') + '.google-analytics.com/ga.js';\n",
      "    var s = document.getElementsByTagName('script')[0]; s.parentNode.insertBefore(ga, s);\n",
      "  })();\n",
      "    </script></head><body><div class=\"navbar navbar-default navbar-static-top\" role=\"navigation\"><div class=\"container-fluid\"><div class=\"navbar-header\"><button class=\"navbar-toggle\" data-target=\".navbar-collapse\" data-toggle=\"collapse\" type=\"button\"><span class=\"sr-only\">Toggle navigation</span><span class=\"icon-bar\"></span><span class=\"icon-bar\"></span><span class=\"icon-bar\"></span></button><a class=\"navbar-brand\" href=\"http://numismatics.org/ocre/\"><img src=\"http://numismatics.org/themes/ocre/images/logo_ocre.png\"/></a></div><div class=\"navbar-collapse collapse\"><ul class=\"nav navbar-nav\"><li><a href=\"results\">Browse</a></li><li><a href=\"search\">Search</a></li><li><a href=\"maps\">Maps</a></li><li><a href=\"symbols\">Symbols</a></li><li><a href=\"identify\">Identify a Coin</a></li><li><a href=\"contributors\">Contributors</a></li><li><a href=\"visualize\">Visualize Queries</a></li><li><a href=\"apis\">APIs</a></li><li><a href=\"pages/about\">About</a></li><li class=\"dropdown\"><a class=\"dropdown-toggle\" data-toggle=\"dropdown\" href=\"#\">Language<b class=\"caret\"></b></a><ul class=\"dropdown-menu\"><li><a href=\"results?lang=ar\">Arabic</a></li><li><a href=\"results?lang=bg\">Bulgarian</a></li><li><a href=\"results?lang=da\">Danish</a></li><li><a href=\"results?lang=de\">German</a></li><li><a href=\"results?lang=el\">Greek</a></li><li><a href=\"results?lang=en\">English</a></li><li><a href=\"results?lang=es\">Spanish</a></li><li><a href=\"results?lang=fr\">French</a></li><li><a href=\"results?lang=hu\">Hungarian</a></li><li><a href=\"results?lang=it\">Italian</a></li><li><a href=\"results?lang=nl\">Dutch</a></li><li><a href=\"results?lang=pl\">Polish</a></li><li><a href=\"results?lang=ro\">Romanian</a></li><li><a href=\"results?lang=ru\">Russian</a></li><li><a href=\"results?lang=sv\">Swedish</a></li><li><a href=\"results?lang=tr\">Turkish</a></li><li><a href=\"results?lang=uk\">Ukrainian</a></li></ul></li></ul><div class=\"col-sm-3 col-md-3 pull-right\"><form action=\"results\" class=\"navbar-form\" method=\"get\" role=\"search\"><div class=\"input-group\"><input class=\"form-control\" id=\"srch-term\" name=\"q\" placeholder=\"Search\" type=\"text\"/><div class=\"input-group-btn\"><button class=\"btn btn-default\" type=\"submit\"><i class=\"glyphicon glyphicon-search\"></i></button></div></div></form></div></div></div></div><div class=\"container-fluid\"><div class=\"row\"><div class=\"col-md-9 col-md-push-3\"><div class=\"container-fluid\"><div class=\"row\"><h1>All Terms<small><a href=\"#resultMap\" id=\"map_results\">Map Results</a></small></h1></div><div style=\"display:none\"><div id=\"resultMap\"></div></div><div class=\"paging_div row\"><div class=\"col-md-6 \">Displaying records 1 to 20 of 42746 total results.</div><div class=\"col-md-6 page-nos\"><div class=\"btn-toolbar\" role=\"toolbar\"><div class=\"btn-group pagination pull-right\"><a class=\"btn btn-default disabled\" href=\"results?q=\" role=\"button\" title=\"First\"><span class=\"glyphicon glyphicon-fast-backward\"></span></a><a class=\"btn btn-default disabled\" href=\"results?q=&amp;start=0\" role=\"button\" title=\"Previous\"><span class=\"glyphicon glyphicon-backward\"></span></a><button class=\"btn btn-default active\" type=\"button\"><b>1</b></button><a class=\"btn btn-default pagingBtn\" href=\"results?q=&amp;start=20\" role=\"button\" title=\"Next\"><span class=\"glyphicon glyphicon-forward\"></span></a><a class=\"btn btn-default pagingBtn\" href=\"results?q=&amp;start=42740\" role=\"button\"><span class=\"glyphicon glyphicon-fast-forward\"></span></a></div></div></div></div><div class=\"row\"><div class=\"col-md-12\"><form action=\"results\" class=\"sortForm form-inline\" method=\"GET\" role=\"form\"><div class=\"form-group\"><select class=\"sortForm_categories form-control\"><option value=\"null\">Select from List</option><option value=\"authority\">Authority</option><option value=\"timestamp\">Date Record Modified</option><option value=\"deity\">Deity</option><option value=\"denomination\">Denomination</option><option value=\"findspot\">Findspot</option><option value=\"issuer\">Issuer</option><option value=\"manufacture\">Manufacture</option><option value=\"material\">Material</option><option value=\"mint\">Mint</option><option value=\"obv_leg_display\">Obverse Legend</option><option value=\"portrait\">Portrait</option><option value=\"region\">Region</option><option value=\"rev_leg_display\">Reverse Legend</option><option value=\"year\">Year</option></select></div><div class=\"form-group\"><select class=\"sortForm_order form-control\"><option value=\"asc\">Ascending</option><option value=\"desc\">Descending</option></select></div><input name=\"q\" type=\"hidden\" value=\"\"/><input class=\"sort_param\" name=\"sort\" type=\"hidden\" value=\"\"/><input class=\"btn btn-default sort_button\" disabled=\"\" type=\"submit\" value=\"Sort Results\"/></form></div></div><div class=\"row result-doc\"><div class=\"col-md-12\"><h4><a href=\"id/ric.1(2).aug.1A\">RIC I (second edition) Augustus 1A</a></h4></div><div class=\"col-md-5 col-lg-4 pull-right\"><a class=\"thumbImage\" href=\"http://ww2.smb.museum/mk_edit/images/n8/8102/vs_opt.jpg\" id=\"http://ww2.smb.museum/ikmk/object.php?id=18207929\" rel=\"gallery\" title=\"Obverse of DE-MUS-814819/18207929: Münzkabinett Berlin\"><img class=\"side-thumbnail\" src=\"http://ww2.smb.museum/mk_edit/images/n8/8102/vs_thumb.jpg\"/></a><a class=\"thumbImage\" href=\"http://ww2.smb.museum/mk_edit/images/n8/8102/rs_opt.jpg\" id=\"http://ww2.smb.museum/ikmk/object.php?id=18207929\" rel=\"gallery\" title=\"Reverse of DE-MUS-814819/18207929: Münzkabinett Berlin\"><img class=\"side-thumbnail\" src=\"http://ww2.smb.museum/mk_edit/images/n8/8102/rs_thumb.jpg\"/></a><a class=\"thumbImage\" href=\"http://ww2.smb.museum/mk_edit/images/n8/8101/vs_opt.jpg\" id=\"http://ww2.smb.museum/ikmk/object.php?id=18207928\" rel=\"gallery\" style=\"display:none\" title=\"Obverse of DE-MUS-814819/18207928: Münzkabinett Berlin\"><img class=\"side-thumbnail\" src=\"http://ww2.smb.museum/mk_edit/images/n8/8101/vs_thumb.jpg\"/></a><a class=\"thumbImage\" href=\"http://ww2.smb.museum/mk_edit/images/n8/8101/rs_opt.jpg\" id=\"http://ww2.smb.museum/ikmk/object.php?id=18207928\" rel=\"gallery\" style=\"display:none\" title=\"Reverse of DE-MUS-814819/18207928: Münzkabinett Berlin\"><img class=\"side-thumbnail\" src=\"http://ww2.smb.museum/mk_edit/images/n8/8101/rs_thumb.jpg\"/></a><a class=\"thumbImage\" href=\"http://ww2.smb.museum/mk_edit/images/n8/8099/vs_opt.jpg\" id=\"http://ww2.smb.museum/ikmk/object.php?id=18207926\" rel=\"gallery\" style=\"display:none\" title=\"Obverse of DE-MUS-814819/18207926: Münzkabinett Berlin\"><img class=\"side-thumbnail\" src=\"http://ww2.smb.museum/mk_edit/images/n8/8099/vs_thumb.jpg\"/></a><a class=\"thumbImage\" href=\"http://ww2.smb.museum/mk_edit/images/n8/8099/rs_opt.jpg\" id=\"http://ww2.smb.museum/ikmk/object.php?id=18207926\" rel=\"gallery\" style=\"display:none\" title"
     ]
    },
    {
     "data": {
      "text/html": [
       "<b>limit_output extension: Maximum message size of 10000 exceeded with 65898 characters</b>"
      ]
     },
     "metadata": {},
     "output_type": "display_data"
    }
   ],
   "source": [
    "# Setting path:\n",
    "#url = \"http://numismatics.org/ocre/results?q=imagesavailable%Atrue\"\n",
    "url = \"http://numismatics.org/ocre/results?q=&start=0\"\n",
    "\n",
    "r    = requests.get(url)\n",
    "data = r.text\n",
    "soup = BeautifulSoup(data)\n",
    "\n",
    "# Print a 'beautiful' verion of file:\n",
    "print(soup.prettify)"
   ]
  },
  {
   "cell_type": "markdown",
   "metadata": {},
   "source": [
    "## We look for our data of interest:"
   ]
  },
  {
   "cell_type": "code",
   "execution_count": 25,
   "metadata": {
    "ExecuteTime": {
     "end_time": "2017-07-12T19:56:10.900038Z",
     "start_time": "2017-07-12T19:56:10.878713Z"
    },
    "collapsed": false
   },
   "outputs": [
    {
     "data": {
      "text/plain": [
       "<div class=\"row result-doc\"><div class=\"col-md-12\"><h4><a href=\"id/ric.1(2).aug.1A\">RIC I (second edition) Augustus 1A</a></h4></div><div class=\"col-md-5 col-lg-4 pull-right\"><a class=\"thumbImage\" href=\"http://ww2.smb.museum/mk_edit/images/n8/8102/vs_opt.jpg\" id=\"http://ww2.smb.museum/ikmk/object.php?id=18207929\" rel=\"gallery\" title=\"Obverse of DE-MUS-814819/18207929: Münzkabinett Berlin\"><img class=\"side-thumbnail\" src=\"http://ww2.smb.museum/mk_edit/images/n8/8102/vs_thumb.jpg\"/></a><a class=\"thumbImage\" href=\"http://ww2.smb.museum/mk_edit/images/n8/8102/rs_opt.jpg\" id=\"http://ww2.smb.museum/ikmk/object.php?id=18207929\" rel=\"gallery\" title=\"Reverse of DE-MUS-814819/18207929: Münzkabinett Berlin\"><img class=\"side-thumbnail\" src=\"http://ww2.smb.museum/mk_edit/images/n8/8102/rs_thumb.jpg\"/></a><a class=\"thumbImage\" href=\"http://ww2.smb.museum/mk_edit/images/n8/8101/vs_opt.jpg\" id=\"http://ww2.smb.museum/ikmk/object.php?id=18207928\" rel=\"gallery\" style=\"display:none\" title=\"Obverse of DE-MUS-814819/18207928: Münzkabinett Berlin\"><img class=\"side-thumbnail\" src=\"http://ww2.smb.museum/mk_edit/images/n8/8101/vs_thumb.jpg\"/></a><a class=\"thumbImage\" href=\"http://ww2.smb.museum/mk_edit/images/n8/8101/rs_opt.jpg\" id=\"http://ww2.smb.museum/ikmk/object.php?id=18207928\" rel=\"gallery\" style=\"display:none\" title=\"Reverse of DE-MUS-814819/18207928: Münzkabinett Berlin\"><img class=\"side-thumbnail\" src=\"http://ww2.smb.museum/mk_edit/images/n8/8101/rs_thumb.jpg\"/></a><a class=\"thumbImage\" href=\"http://ww2.smb.museum/mk_edit/images/n8/8099/vs_opt.jpg\" id=\"http://ww2.smb.museum/ikmk/object.php?id=18207926\" rel=\"gallery\" style=\"display:none\" title=\"Obverse of DE-MUS-814819/18207926: Münzkabinett Berlin\"><img class=\"side-thumbnail\" src=\"http://ww2.smb.museum/mk_edit/images/n8/8099/vs_thumb.jpg\"/></a><a class=\"thumbImage\" href=\"http://ww2.smb.museum/mk_edit/images/n8/8099/rs_opt.jpg\" id=\"http://ww2.smb.museum/ikmk/object.php?id=18207926\" rel=\"gallery\" style=\"display:none\" title=\"Reverse of DE-MUS-814819/18207926: Münzkabinett Berlin\"><img class=\"side-thumbnail\" src=\"http://ww2.smb.museum/mk_edit/images/n8/8099/rs_thumb.jpg\"/></a><a class=\"thumbImage\" href=\"http://numismatics.org/collectionimages/19501999/1969/1969.222.1275.obv.width350.jpg\" id=\"http://numismatics.org/collection/1969.222.1275\" rel=\"gallery\" style=\"display:none\" title=\"Obverse of 1969.222.1275: American Numismatic Society\"><img class=\"side-thumbnail\" src=\"http://numismatics.org/collectionimages/19501999/1969/1969.222.1275.obv.width175.jpg\"/></a><a class=\"thumbImage\" href=\"http://numismatics.org/collectionimages/19501999/1969/1969.222.1275.rev.width350.jpg\" id=\"http://numismatics.org/collection/1969.222.1275\" rel=\"gallery\" style=\"display:none\" title=\"Reverse of 1969.222.1275: American Numismatic Society\"><img class=\"side-thumbnail\" src=\"http://numismatics.org/collectionimages/19501999/1969/1969.222.1275.rev.width175.jpg\"/></a><a class=\"thumbImage\" href=\"http://numismatics.org/collectionimages/19501999/1969/1969.222.1274.obv.width350.jpg\" id=\"http://numismatics.org/collection/1969.222.1274\" rel=\"gallery\" style=\"display:none\" title=\"Obverse of 1969.222.1274: American Numismatic Society\"><img class=\"side-thumbnail\" src=\"http://numismatics.org/collectionimages/19501999/1969/1969.222.1274.obv.width175.jpg\"/></a><a class=\"thumbImage\" href=\"http://numismatics.org/collectionimages/19501999/1969/1969.222.1274.rev.width350.jpg\" id=\"http://numismatics.org/collection/1969.222.1274\" rel=\"gallery\" style=\"display:none\" title=\"Reverse of 1969.222.1274: American Numismatic Society\"><img class=\"side-thumbnail\" src=\"http://numismatics.org/collectionimages/19501999/1969/1969.222.1274.rev.width175.jpg\"/></a><br/>objects: 13; hoard: 1</div><div class=\"col-md-7 col-lg-8\"><dl class=\" dl-horizontal\"><dt>Date</dt><dd>25 BC - 23 BC</dd><dt>Denomination</dt><dd>Quinarius</dd><dt>Mint</dt><dd>Emerita</dd><dt>Obverse</dt><dd>AVGVST: Head of Augustus, bare, left</dd><dt>Reverse</dt><dd>P CARISI LEG: Victory standing right, placing wreath on trophy with dagger and sword at base</dd></dl></div></div>"
      ]
     },
     "metadata": {},
     "output_type": "display_data"
    }
   ],
   "source": [
    "results = soup.find_all(\"div\", class_=\"result-doc\")\n",
    "display(results[0])"
   ]
  },
  {
   "cell_type": "code",
   "execution_count": 34,
   "metadata": {
    "ExecuteTime": {
     "end_time": "2017-07-12T20:23:17.500148Z",
     "start_time": "2017-07-12T20:23:17.491385Z"
    },
    "collapsed": false
   },
   "outputs": [
    {
     "data": {
      "text/plain": [
       "[<dt>Date</dt>,\n",
       " <dt>Denomination</dt>,\n",
       " <dt>Mint</dt>,\n",
       " <dt>Obverse</dt>,\n",
       " <dt>Reverse</dt>]"
      ]
     },
     "metadata": {},
     "output_type": "display_data"
    }
   ],
   "source": [
    "for result in results:\n",
    "    tags = result.find_all(\"dt\")\n",
    "\n",
    "display(tags)"
   ]
  },
  {
   "cell_type": "code",
   "execution_count": null,
   "metadata": {
    "collapsed": true
   },
   "outputs": [],
   "source": []
  }
 ],
 "metadata": {
  "kernelspec": {
   "display_name": "Python [default]",
   "language": "python",
   "name": "python3"
  },
  "language_info": {
   "codemirror_mode": {
    "name": "ipython",
    "version": 3
   },
   "file_extension": ".py",
   "mimetype": "text/x-python",
   "name": "python",
   "nbconvert_exporter": "python",
   "pygments_lexer": "ipython3",
   "version": "3.6.0"
  },
  "toc": {
   "colors": {
    "hover_highlight": "#DAA520",
    "navigate_num": "#000000",
    "navigate_text": "#333333",
    "running_highlight": "#FF0000",
    "selected_highlight": "#FFD700",
    "sidebar_border": "#EEEEEE",
    "wrapper_background": "#FFFFFF"
   },
   "moveMenuLeft": true,
   "nav_menu": {
    "height": "85px",
    "width": "252px"
   },
   "navigate_menu": true,
   "number_sections": false,
   "sideBar": true,
   "threshold": 4,
   "toc_cell": false,
   "toc_section_display": "block",
   "toc_window_display": false,
   "widenNotebook": false
  }
 },
 "nbformat": 4,
 "nbformat_minor": 2
}
